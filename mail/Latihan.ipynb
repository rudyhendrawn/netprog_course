{
 "cells": [
  {
   "cell_type": "code",
   "execution_count": 13,
   "metadata": {},
   "outputs": [],
   "source": [
    "# Import library yang diperlukan\n",
    "import argparse\n",
    "import getpass\n",
    "import imaplib\n",
    "import poplib\n",
    "import smtplib"
   ]
  },
  {
   "cell_type": "code",
   "execution_count": 14,
   "metadata": {},
   "outputs": [],
   "source": [
    "def imap_mail(username, connect):\n",
    "    mailbox = connect\n",
    "    password = getpass.getpass(prompt='Enter your email password: ')\n",
    "    mailbox.login(username,password)\n",
    "    mailbox.select('inbox')\n",
    "    typ, data = mailbox.search(None, 'ALL')\n",
    "    for num in data[0].split():\n",
    "        typ, data = mailbox.fetch(num, '(RFC822)')\n",
    "        print ('Message %s\\n%s\\n' % (num, data[0][1]))\n",
    "        break\n",
    "    mailbox.close()\n",
    "    mailbox.logout()\n",
    "    \n",
    "def pop_mail(username, connect): \n",
    "    mailbox = connect \n",
    "    mailbox.user(username)\n",
    "    password = getpass.getpass(prompt='Enter your email password: ') \n",
    "    mailbox.pass_(password) \n",
    "    num_messages = len(mailbox.list()[1])\n",
    "    print ('Total emails: {}'.format(num_messages))\n",
    "    mailbox.quit()"
   ]
  },
  {
   "cell_type": "markdown",
   "metadata": {},
   "source": [
    "Buatlah sebuah fungsi yang dapat menggabungkan fungsionalitas fungsi `imap_mail()` dan `pop_mail()`"
   ]
  },
  {
   "cell_type": "code",
   "execution_count": 15,
   "metadata": {},
   "outputs": [],
   "source": [
    "def mail(username, protocol, host, port):\n",
    "    if protocol == 'imap':\n",
    "        connect= imaplib.IMAP4_SSL(host, port)\n",
    "        imap_mail (username, connect)\n",
    "    elif protocol == 'pop':\n",
    "        connect = poplib.POP3_SSL(host, port)\n",
    "        pop_mail(username, connect)\n",
    "    else:\n",
    "        print (\"Protokol anda salah\")"
   ]
  },
  {
   "cell_type": "markdown",
   "metadata": {},
   "source": [
    "Panggil fungsi `mail()` di bawah ini:"
   ]
  },
  {
   "cell_type": "code",
   "execution_count": null,
   "metadata": {},
   "outputs": [],
   "source": [
    "mail('priantanaadi@gmail', 'imap', 'imap.gmail.com', 993)"
   ]
  },
  {
   "cell_type": "code",
   "execution_count": null,
   "metadata": {},
   "outputs": [],
   "source": []
  },
  {
   "cell_type": "code",
   "execution_count": null,
   "metadata": {},
   "outputs": [],
   "source": []
  }
 ],
 "metadata": {
  "kernelspec": {
   "display_name": "Python 3",
   "language": "python",
   "name": "python3"
  },
  "language_info": {
   "codemirror_mode": {
    "name": "ipython",
    "version": 3
   },
   "file_extension": ".py",
   "mimetype": "text/x-python",
   "name": "python",
   "nbconvert_exporter": "python",
   "pygments_lexer": "ipython3",
   "version": "3.8.1"
  }
 },
 "nbformat": 4,
 "nbformat_minor": 4
}
